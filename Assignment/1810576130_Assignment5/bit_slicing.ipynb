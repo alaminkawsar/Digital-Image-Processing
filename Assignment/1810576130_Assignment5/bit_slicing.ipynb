{
 "cells": [
  {
   "cell_type": "code",
   "execution_count": null,
   "id": "38912955",
   "metadata": {},
   "outputs": [
    {
     "ename": "",
     "evalue": "",
     "output_type": "error",
     "traceback": [
      "\u001b[1;31mRunning cells with 'Python 3.8.10 64-bit' requires ipykernel package.\n",
      "Run the following command to install 'ipykernel' into the Python environment. \n",
      "Command: '/bin/python3 -m pip install ipykernel -U --user --force-reinstall'"
     ]
    }
   ],
   "source": [
    "import matplotlib.pyplot as plt\n",
    "import cv2\n",
    "import numpy as np\n",
    "\n",
    "\n",
    "\n",
    "def main():\n",
    "    \n",
    "    #Load an RGB image from a image_path\n",
    "    img_path = '/home/kawsar/Desktop/Class_Resource/4th Year 1st semester/ImageProcessingLab/Assignment/1810576130_Assignment5/flower.jpeg'\n",
    "    #print(img_path)\n",
    "    rgb = plt.imread(img_path)\n",
    "    #print(rgb)\n",
    "    \n",
    "    #Split loaded RGB image into grayscale, red, green, blue and binary image\n",
    "    \n",
    "    x, y = 5, 2\n",
    "    pos, channel = 1, 0\n",
    "    \n",
    "    plt.figure(figsize=(40,40))\n",
    "    \n",
    "    \n",
    "    plt.subplot(x,y,pos)\n",
    "    plt.title('Grayscale channel')\n",
    "    grayscale = cv2.cvtColor(rgb, cv2.COLOR_RGB2GRAY)\n",
    "    grayscale = cv2.resize(grayscale, (680,580))\n",
    "    plt.imshow(grayscale, cmap='gray')\n",
    "\n",
    "    \n",
    "    w, h = grayscale.shape\n",
    "    \n",
    "    \n",
    "    mat = np.zeros((8,w,h),dtype=int)\n",
    "    bitset = [1,2,4,8,16,32,64,128]    \n",
    "\n",
    "    for k in range(8):\n",
    "        for i in range(w):\n",
    "            for j in range(h):\n",
    "                mat[k][i][j] = grayscale[i][j] & bitset[k]\n",
    "    k = 7\n",
    "    \n",
    "    \n",
    "    #showing \n",
    "    \n",
    "    for pos in range(2,10):\n",
    "        plt.subplot(x,y,pos)\n",
    "        plt.title(str(k+1)+ 'Bits')\n",
    "        plt.imshow(mat[k], cmap='gray')\n",
    "        k -= 1\n",
    "    \n",
    "    restore_img = np.zeros((w,h),dtype=int)\n",
    "    \n",
    "    for k in range(8):\n",
    "        for i in range(w):\n",
    "            for j in range(h):\n",
    "                restore_img[i][j] += mat[k][i][j]\n",
    "                \n",
    "    plt.subplot(x,y,10)\n",
    "    plt.title('Restored Image')\n",
    "    plt.imshow(restore_img,cmap='gray')\n",
    "    \n",
    "    plt.show()\n",
    "    \n",
    "if __name__ == '__main__':\n",
    "\tmain()"
   ]
  },
  {
   "cell_type": "code",
   "execution_count": null,
   "id": "d295b388",
   "metadata": {},
   "outputs": [],
   "source": []
  }
 ],
 "metadata": {
  "interpreter": {
   "hash": "916dbcbb3f70747c44a77c7bcd40155683ae19c65e1c03b4aa3499c5328201f1"
  },
  "kernelspec": {
   "display_name": "Python 3.8.10 64-bit",
   "language": "python",
   "name": "python3"
  },
  "language_info": {
   "codemirror_mode": {
    "name": "ipython",
    "version": 3
   },
   "file_extension": ".py",
   "mimetype": "text/x-python",
   "name": "python",
   "nbconvert_exporter": "python",
   "pygments_lexer": "ipython3",
   "version": "3.8.10"
  }
 },
 "nbformat": 4,
 "nbformat_minor": 5
}
